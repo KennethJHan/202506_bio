{
 "cells": [
  {
   "cell_type": "code",
   "execution_count": 26,
   "id": "fbcdb893",
   "metadata": {},
   "outputs": [
    {
     "name": "stdout",
     "output_type": "stream",
     "text": [
      "ACGTACGT\n",
      "50.0 50.0\n",
      "False False\n",
      "ACGU ACGU\n",
      "True\n"
     ]
    }
   ],
   "source": [
    "class DNA: # 틀\n",
    "    def __init__(self, seq: str, sample_id: str): # self는 객체 그 자신\n",
    "        self.seq = seq\n",
    "        self.sample_id = sample_id\n",
    "\n",
    "    def get_length(self):\n",
    "        return len(self.seq)\n",
    "\n",
    "    def get_gc_content(self) -> float:\n",
    "        num_c = self.seq.count(\"C\")\n",
    "        num_g = self.seq.count(\"G\")\n",
    "        return (num_c + num_g) / self.get_length() * 100\n",
    "\n",
    "    def is_palindrome(self) -> bool:\n",
    "        return self.seq[::-1] == self.seq\n",
    "\n",
    "    def get_transcribed(self) -> str:\n",
    "        return self.seq.replace(\"T\", \"U\")\n",
    "\n",
    "    def __eq__(self, other) -> bool:\n",
    "        return self.seq == other.seq\n",
    "\n",
    "    def __str__(self) -> str: # print()\n",
    "        return f\">{self.sample_id}\\n{self.seq}\"\n",
    "\n",
    "    def __add__(self, other) -> str: # +\n",
    "        return self.seq + other.seq\n",
    "\n",
    "dna1 = DNA(\"ACGT\", \"test_sample\") # dna1은 object\n",
    "dna2 = DNA(\"ACGT\", \"test2_sample\")\n",
    "print(dna1 + dna2)\n",
    "print(dna1.get_gc_content(), dna2.get_gc_content())\n",
    "print(dna1.is_palindrome(), dna2.is_palindrome())\n",
    "print(dna1.get_transcribed(), dna2.get_transcribed())\n",
    "print(dna1 == dna2) # print(dna1.seq == dna2.seq)"
   ]
  },
  {
   "cell_type": "code",
   "execution_count": 31,
   "id": "c2563451",
   "metadata": {},
   "outputs": [
    {
     "name": "stdout",
     "output_type": "stream",
     "text": [
      "4\n",
      "not applicable\n"
     ]
    }
   ],
   "source": [
    "class RNA(DNA):\n",
    "    def __init__(self):\n",
    "        pass\n",
    "\n",
    "    def get_transcribed(self):\n",
    "        return \"not applicable\"\n",
    "\n",
    "rna1 = RNA()\n",
    "rna1.seq = \"AUGC\"\n",
    "print(rna1.get_length())\n",
    "print(rna1.get_transcribed())"
   ]
  },
  {
   "cell_type": "code",
   "execution_count": 34,
   "id": "52a7df75",
   "metadata": {},
   "outputs": [
    {
     "name": "stdout",
     "output_type": "stream",
     "text": [
      "test1\n",
      "test3\n",
      "test2\n",
      "test4\n",
      "test5\n"
     ]
    }
   ],
   "source": [
    "with open(\"test.txt\") as handle:\n",
    "    for line in handle:\n",
    "        print(line.strip())"
   ]
  },
  {
   "cell_type": "code",
   "execution_count": 37,
   "id": "34d37ab6",
   "metadata": {},
   "outputs": [
    {
     "name": "stdout",
     "output_type": "stream",
     "text": [
      "test2\n",
      "test4\n",
      "test10\n"
     ]
    }
   ],
   "source": [
    "with open(\"test.txt\") as handle:\n",
    "    for line in handle:\n",
    "        if int(line[4:]) % 2 == 0:\n",
    "            print(line.strip())"
   ]
  },
  {
   "cell_type": "code",
   "execution_count": null,
   "id": "6b1369b6",
   "metadata": {},
   "outputs": [],
   "source": []
  }
 ],
 "metadata": {
  "kernelspec": {
   "display_name": "base",
   "language": "python",
   "name": "python3"
  },
  "language_info": {
   "codemirror_mode": {
    "name": "ipython",
    "version": 3
   },
   "file_extension": ".py",
   "mimetype": "text/x-python",
   "name": "python",
   "nbconvert_exporter": "python",
   "pygments_lexer": "ipython3",
   "version": "3.11.8"
  }
 },
 "nbformat": 4,
 "nbformat_minor": 5
}
