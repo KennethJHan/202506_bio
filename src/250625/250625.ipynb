{
 "cells": [
  {
   "cell_type": "code",
   "execution_count": 26,
   "id": "fbcdb893",
   "metadata": {},
   "outputs": [
    {
     "name": "stdout",
     "output_type": "stream",
     "text": [
      "ACGTACGT\n",
      "50.0 50.0\n",
      "False False\n",
      "ACGU ACGU\n",
      "True\n"
     ]
    }
   ],
   "source": [
    "class DNA: # 틀\n",
    "    def __init__(self, seq: str, sample_id: str): # self는 객체 그 자신\n",
    "        self.seq = seq\n",
    "        self.sample_id = sample_id\n",
    "\n",
    "    def get_length(self):\n",
    "        return len(self.seq)\n",
    "\n",
    "    def get_gc_content(self) -> float:\n",
    "        num_c = self.seq.count(\"C\")\n",
    "        num_g = self.seq.count(\"G\")\n",
    "        return (num_c + num_g) / self.get_length() * 100\n",
    "\n",
    "    def is_palindrome(self) -> bool:\n",
    "        return self.seq[::-1] == self.seq\n",
    "\n",
    "    def get_transcribed(self) -> str:\n",
    "        return self.seq.replace(\"T\", \"U\")\n",
    "\n",
    "    def __eq__(self, other) -> bool:\n",
    "        return self.seq == other.seq\n",
    "\n",
    "    def __str__(self) -> str: # print()\n",
    "        return f\">{self.sample_id}\\n{self.seq}\"\n",
    "\n",
    "    def __add__(self, other) -> str: # +\n",
    "        return self.seq + other.seq\n",
    "\n",
    "dna1 = DNA(\"ACGT\", \"test_sample\") # dna1은 object\n",
    "dna2 = DNA(\"ACGT\", \"test2_sample\")\n",
    "print(dna1 + dna2)\n",
    "print(dna1.get_gc_content(), dna2.get_gc_content())\n",
    "print(dna1.is_palindrome(), dna2.is_palindrome())\n",
    "print(dna1.get_transcribed(), dna2.get_transcribed())\n",
    "print(dna1 == dna2) # print(dna1.seq == dna2.seq)"
   ]
  },
  {
   "cell_type": "code",
   "execution_count": 75,
   "id": "d13874fe",
   "metadata": {},
   "outputs": [],
   "source": [
    "dna1 = DNA(\"ACGT\", \"sample\")\n",
    "assert dna1.get_length() == 4"
   ]
  },
  {
   "cell_type": "code",
   "execution_count": 31,
   "id": "c2563451",
   "metadata": {},
   "outputs": [
    {
     "name": "stdout",
     "output_type": "stream",
     "text": [
      "4\n",
      "not applicable\n"
     ]
    }
   ],
   "source": [
    "class RNA(DNA):\n",
    "    def __init__(self):\n",
    "        pass\n",
    "\n",
    "    def get_transcribed(self):\n",
    "        return \"not applicable\"\n",
    "\n",
    "rna1 = RNA()\n",
    "rna1.seq = \"AUGC\"\n",
    "print(rna1.get_length())\n",
    "print(rna1.get_transcribed())"
   ]
  },
  {
   "cell_type": "code",
   "execution_count": 34,
   "id": "52a7df75",
   "metadata": {},
   "outputs": [
    {
     "name": "stdout",
     "output_type": "stream",
     "text": [
      "test1\n",
      "test3\n",
      "test2\n",
      "test4\n",
      "test5\n"
     ]
    }
   ],
   "source": [
    "with open(\"test.txt\") as handle:\n",
    "    for line in handle:\n",
    "        print(line.strip())"
   ]
  },
  {
   "cell_type": "code",
   "execution_count": 37,
   "id": "34d37ab6",
   "metadata": {},
   "outputs": [
    {
     "name": "stdout",
     "output_type": "stream",
     "text": [
      "test2\n",
      "test4\n",
      "test10\n"
     ]
    }
   ],
   "source": [
    "with open(\"test.txt\") as handle:\n",
    "    for line in handle:\n",
    "        if int(line[4:]) % 2 == 0:\n",
    "            print(line.strip())"
   ]
  },
  {
   "cell_type": "code",
   "execution_count": 38,
   "id": "6b1369b6",
   "metadata": {},
   "outputs": [
    {
     "name": "stdout",
     "output_type": "stream",
     "text": [
      "['SAMPLE', 'GENE', 'VALUE']\n",
      "['1', 'BRAF', '3.84']\n",
      "['2', 'TERT', '6.15']\n",
      "['3', 'KRAS', '2.76']\n"
     ]
    }
   ],
   "source": [
    "with open(\"sample.csv\") as handle:\n",
    "    for line in handle:\n",
    "        print(line.strip().split(\",\"))"
   ]
  },
  {
   "cell_type": "code",
   "execution_count": null,
   "id": "c5fb257b",
   "metadata": {},
   "outputs": [
    {
     "name": "stdout",
     "output_type": "stream",
     "text": [
      "{'SAMPLE': '1', 'GENE': 'BRAF', 'VALUE': '3.84'}\n",
      "{'SAMPLE': '2', 'GENE': 'TERT', 'VALUE': '6.15'}\n",
      "{'SAMPLE': '3', 'GENE': 'KRAS', 'VALUE': '2.76'}\n"
     ]
    }
   ],
   "source": [
    "all_data = list()\n",
    "with open(\"sample.csv\") as handle:\n",
    "    header = handle.readline().strip().split(\",\")\n",
    "    for line in handle:\n",
    "        data = line.strip().split(\",\")\n",
    "        all_data.append(dict(zip(header, data)))\n",
    "        \n",
    "for elem in all_data:\n",
    "    print(elem)"
   ]
  },
  {
   "cell_type": "code",
   "execution_count": null,
   "id": "f7e5db0d",
   "metadata": {},
   "outputs": [
    {
     "name": "stdout",
     "output_type": "stream",
     "text": [
      "['SAMPLE', 'GENE', 'VALUE']\n",
      "['1', 'BRAF', '3.84']\n",
      "['2', 'TERT', '6.15']\n",
      "['3', 'KRAS', '2.76']\n"
     ]
    }
   ],
   "source": [
    "with open(\"sample.tsv\") as handle:\n",
    "    for line in handle:\n",
    "        print(line.strip().split(\"\\t\")) # \\t 탭문자"
   ]
  },
  {
   "cell_type": "code",
   "execution_count": null,
   "id": "cc67d21d",
   "metadata": {},
   "outputs": [
    {
     "name": "stdout",
     "output_type": "stream",
     "text": [
      "{'SAMPLE': '2', 'GENE': 'TERT', 'VALUE': '6.15'}\n",
      "{'SAMPLE': '1', 'GENE': 'BRAF', 'VALUE': '3.84'}\n",
      "{'SAMPLE': '3', 'GENE': 'KRAS', 'VALUE': '2.76'}\n"
     ]
    }
   ],
   "source": [
    "all_data = list()\n",
    "with open(\"sample.tsv\") as handle:\n",
    "    header = handle.readline().strip().split(\"\\t\")\n",
    "    for line in handle:\n",
    "        data = line.strip().split(\"\\t\")\n",
    "        all_data.append(dict(zip(header, data)))\n",
    "\n",
    "all_data_sorted = sorted(\n",
    "    all_data, key=lambda x: float(x[\"VALUE\"]), reverse=True)\n",
    "for elem in all_data_sorted:\n",
    "    print(elem)"
   ]
  },
  {
   "cell_type": "code",
   "execution_count": 57,
   "id": "28bbffcb",
   "metadata": {},
   "outputs": [
    {
     "name": "stdout",
     "output_type": "stream",
     "text": [
      "{'SAMPLE': '1', 'GENE': 'BRAF', 'VALUE': '3.84'}\n",
      "<class 'dict'>\n",
      "SAMPLE: 1\n",
      "GENE: BRAF\n",
      "VALUE: 3.84\n"
     ]
    }
   ],
   "source": [
    "import json\n",
    "\n",
    "with open(\"test1.json\") as handle:\n",
    "    data = json.load(handle)\n",
    "\n",
    "print(data)\n",
    "print(type(data))\n",
    "for k, v in data.items():\n",
    "    print(f\"{k}: {v}\")"
   ]
  },
  {
   "cell_type": "code",
   "execution_count": 61,
   "id": "c1b06a01",
   "metadata": {},
   "outputs": [
    {
     "name": "stdout",
     "output_type": "stream",
     "text": [
      "[{'SAMPLE': '1', 'GENE': 'BRAF', 'VALUE': '3.84'}, {'SAMPLE': '2', 'GENE': 'TERT', 'VALUE': '6.15'}, {'SAMPLE': '3', 'GENE': 'KRAS', 'VALUE': '2.76'}]\n",
      "<class 'list'>\n",
      "------\n",
      "{'SAMPLE': '1', 'GENE': 'BRAF', 'VALUE': '3.84'}\n",
      "{'SAMPLE': '2', 'GENE': 'TERT', 'VALUE': '6.15'}\n",
      "{'SAMPLE': '3', 'GENE': 'KRAS', 'VALUE': '2.76'}\n"
     ]
    }
   ],
   "source": [
    "import json\n",
    "\n",
    "with open(\"test2.json\") as handle:\n",
    "    data = json.load(handle)\n",
    "\n",
    "print(data)\n",
    "print(type(data))\n",
    "print(\"------\")\n",
    "for elem in data:\n",
    "    print(elem)"
   ]
  },
  {
   "cell_type": "code",
   "execution_count": 62,
   "id": "9ff5e169",
   "metadata": {},
   "outputs": [
    {
     "name": "stdout",
     "output_type": "stream",
     "text": [
      "4.25\n"
     ]
    }
   ],
   "source": [
    "import json\n",
    "\n",
    "with open(\"test2.json\") as handle:\n",
    "    data = json.load(handle)\n",
    "\n",
    "# VALUE의 평균 구하기\n",
    "value_total = 0\n",
    "for elem in data:\n",
    "    value_total += float(elem[\"VALUE\"])\n",
    "\n",
    "avr = value_total / len(data)\n",
    "print(avr)"
   ]
  },
  {
   "cell_type": "code",
   "execution_count": 70,
   "id": "a89ae25c",
   "metadata": {},
   "outputs": [
    {
     "name": "stdout",
     "output_type": "stream",
     "text": [
      "[{'SAMPLE': '1', 'GENE': 'BRAF', 'VALUE': '3.84'}, {'SAMPLE': '2', 'GENE': 'TERT', 'VALUE': '6.15'}, {'SAMPLE': '3', 'GENE': 'KRAS', 'VALUE': '2.76'}]\n"
     ]
    }
   ],
   "source": [
    "import json\n",
    "\n",
    "data = list()\n",
    "with open(\"sample.csv\") as handle:\n",
    "    header = handle.readline().strip().split(\",\")\n",
    "    for line in handle:\n",
    "        row = line.strip().split(\",\")\n",
    "        data.append(dict(zip(header, row)))\n",
    "\n",
    "print(data)\n",
    "with open(\"result.json\", \"w\") as handle:\n",
    "    json.dump(data, handle)\n",
    "\n",
    "with open(\"result2.json\", \"w\") as handle:\n",
    "    json.dump(data, handle, indent=2)\n"
   ]
  },
  {
   "cell_type": "code",
   "execution_count": 76,
   "id": "db49a358",
   "metadata": {},
   "outputs": [
    {
     "name": "stdout",
     "output_type": "stream",
     "text": [
      "Requirement already satisfied: pytest in /Users/jhan/opt/anaconda3/lib/python3.11/site-packages (8.1.1)\n",
      "Requirement already satisfied: iniconfig in /Users/jhan/opt/anaconda3/lib/python3.11/site-packages (from pytest) (1.1.1)\n",
      "Requirement already satisfied: packaging in /Users/jhan/opt/anaconda3/lib/python3.11/site-packages (from pytest) (23.1)\n",
      "Requirement already satisfied: pluggy<2.0,>=1.4 in /Users/jhan/opt/anaconda3/lib/python3.11/site-packages (from pytest) (1.4.0)\n",
      "Note: you may need to restart the kernel to use updated packages.\n"
     ]
    }
   ],
   "source": [
    "pip install pytest"
   ]
  },
  {
   "cell_type": "code",
   "execution_count": 1,
   "id": "08ef3880",
   "metadata": {},
   "outputs": [
    {
     "name": "stdout",
     "output_type": "stream",
     "text": [
      "Hello World!\n",
      "This is a gzipped test file.\n"
     ]
    }
   ],
   "source": [
    "import gzip\n",
    "\n",
    "with gzip.open(\"data/test.txt.gz\", \"rt\") as handle:\n",
    "    for line in handle:\n",
    "        print(line.strip())"
   ]
  },
  {
   "cell_type": "code",
   "execution_count": null,
   "id": "af308b6d",
   "metadata": {},
   "outputs": [],
   "source": []
  }
 ],
 "metadata": {
  "kernelspec": {
   "display_name": "base",
   "language": "python",
   "name": "python3"
  },
  "language_info": {
   "codemirror_mode": {
    "name": "ipython",
    "version": 3
   },
   "file_extension": ".py",
   "mimetype": "text/x-python",
   "name": "python",
   "nbconvert_exporter": "python",
   "pygments_lexer": "ipython3",
   "version": "3.11.8"
  }
 },
 "nbformat": 4,
 "nbformat_minor": 5
}
