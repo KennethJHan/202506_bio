{
 "cells": [
  {
   "cell_type": "code",
   "execution_count": 88,
   "id": "ba9e1a5c",
   "metadata": {},
   "outputs": [],
   "source": [
    "def print_type(obj):\n",
    "    print(f\"{type(obj)}: {obj}\")"
   ]
  },
  {
   "cell_type": "code",
   "execution_count": 89,
   "id": "26bc68dd",
   "metadata": {},
   "outputs": [
    {
     "name": "stdout",
     "output_type": "stream",
     "text": [
      "<class 'str'>: AA\n",
      "<class 'int'>: -10\n",
      "<class 'float'>: 3.14\n",
      "<class 'list'>: ['A', 'B', 10, {'A', 'B'}, {'key': 'value'}]\n"
     ]
    }
   ],
   "source": [
    "print_type(\"AA\")\n",
    "print_type(-10)\n",
    "print_type(3.14)\n",
    "print_type([\"A\", \"B\", 10, {\"A\", \"B\"}, {\"key\": \"value\"}])"
   ]
  },
  {
   "cell_type": "code",
   "execution_count": 90,
   "id": "2a3077a0",
   "metadata": {},
   "outputs": [
    {
     "name": "stdout",
     "output_type": "stream",
     "text": [
      "\n"
     ]
    },
    {
     "ename": "ValueError",
     "evalue": "could not convert string to float: ''",
     "output_type": "error",
     "traceback": [
      "\u001b[0;31m---------------------------------------------------------------------------\u001b[0m",
      "\u001b[0;31mValueError\u001b[0m                                Traceback (most recent call last)",
      "Cell \u001b[0;32mIn[90], line 3\u001b[0m\n\u001b[1;32m      1\u001b[0m num \u001b[38;5;241m=\u001b[39m \u001b[38;5;28minput\u001b[39m() \u001b[38;5;66;03m# 3.15\u001b[39;00m\n\u001b[1;32m      2\u001b[0m \u001b[38;5;28mprint\u001b[39m(num \u001b[38;5;241m*\u001b[39m \u001b[38;5;241m2\u001b[39m) \u001b[38;5;66;03m# 3.153.15\u001b[39;00m\n\u001b[0;32m----> 3\u001b[0m num \u001b[38;5;241m=\u001b[39m \u001b[38;5;28mfloat\u001b[39m(num)\n\u001b[1;32m      4\u001b[0m \u001b[38;5;28mprint\u001b[39m(num \u001b[38;5;241m*\u001b[39m \u001b[38;5;241m2\u001b[39m) \u001b[38;5;66;03m# 6.3\u001b[39;00m\n\u001b[1;32m      5\u001b[0m print_type(num)\n",
      "\u001b[0;31mValueError\u001b[0m: could not convert string to float: ''"
     ]
    }
   ],
   "source": [
    "num = input() # 3.15\n",
    "print(num * 2) # 3.153.15\n",
    "num = float(num)\n",
    "print(num * 2) # 6.3\n",
    "print_type(num)"
   ]
  },
  {
   "cell_type": "code",
   "execution_count": null,
   "id": "a9300c7e",
   "metadata": {},
   "outputs": [
    {
     "name": "stdout",
     "output_type": "stream",
     "text": [
      "M203412\n"
     ]
    }
   ],
   "source": [
    "patient_id = 203412\n",
    "patient_id = \"M\" + str(patient_id)\n",
    "print(patient_id) # M203412"
   ]
  },
  {
   "cell_type": "code",
   "execution_count": null,
   "id": "82109af9",
   "metadata": {},
   "outputs": [
    {
     "name": "stdout",
     "output_type": "stream",
     "text": [
      "M203412\n"
     ]
    }
   ],
   "source": [
    "patient_id = 203412\n",
    "patient_id = f\"M{patient_id}\"\n",
    "print(patient_id)"
   ]
  },
  {
   "cell_type": "code",
   "execution_count": null,
   "id": "3ad787e9",
   "metadata": {},
   "outputs": [
    {
     "name": "stdout",
     "output_type": "stream",
     "text": [
      "BioInformatics\n"
     ]
    }
   ],
   "source": [
    "var1 = \"Bio\"\n",
    "var2 = \"Informatics\"\n",
    "var3 = var1 + var2\n",
    "print(var3)"
   ]
  },
  {
   "cell_type": "code",
   "execution_count": null,
   "id": "95c46970",
   "metadata": {},
   "outputs": [
    {
     "name": "stdout",
     "output_type": "stream",
     "text": [
      "A\n",
      "TTA\n",
      "9\n"
     ]
    }
   ],
   "source": [
    "seq1 = \"AGTTTATAG\"\n",
    "#       012345678\n",
    "print(seq1[5])\n",
    "print(seq1[3:6])\n",
    "print(len(seq1))"
   ]
  },
  {
   "cell_type": "code",
   "execution_count": null,
   "id": "61660a69",
   "metadata": {},
   "outputs": [
    {
     "name": "stdout",
     "output_type": "stream",
     "text": [
      "ATGTTATAG\n",
      "atgttatag\n",
      "Atgttatag\n"
     ]
    }
   ],
   "source": [
    "seq1 = \"ATGttATaG\"\n",
    "print(seq1.upper())\n",
    "print(seq1.lower())\n",
    "print(seq1.capitalize())\n",
    "# method -> verb obj.method_name()\n",
    "# attribute -> noun obj.attribute_name"
   ]
  },
  {
   "cell_type": "code",
   "execution_count": null,
   "id": "2b8963a5",
   "metadata": {},
   "outputs": [
    {
     "name": "stdout",
     "output_type": "stream",
     "text": [
      "0 3 ATG\n",
      "3 6 TTA\n",
      "6 9 TAG\n"
     ]
    }
   ],
   "source": [
    "seq1 = \"ATGTTATAG\"\n",
    "#       012345678\n",
    "# 0, 3, 6 -> A, T, T\n",
    "# print(seq1[0], seq1[3], seq1[6])\n",
    "for i in range(0, len(seq1), 3):\n",
    "    print(i, i+3, seq1[i:i+3])"
   ]
  },
  {
   "cell_type": "code",
   "execution_count": null,
   "id": "c6045fe4",
   "metadata": {},
   "outputs": [
    {
     "name": "stdout",
     "output_type": "stream",
     "text": [
      "GATATTGTA\n"
     ]
    }
   ],
   "source": [
    "seq1 = \"ATGTTATAG\"\n",
    "seq1_rev = seq1[::-1]\n",
    "# seq1_rev = \"\"\n",
    "# for i in range(len(seq1)-1, -1, -1):\n",
    "#     seq1_rev += seq1[i]\n",
    "print(seq1_rev)"
   ]
  },
  {
   "cell_type": "code",
   "execution_count": null,
   "id": "76efeabf",
   "metadata": {},
   "outputs": [
    {
     "name": "stdout",
     "output_type": "stream",
     "text": [
      "ATGTTATAG\n",
      "TACAATATC\n"
     ]
    }
   ],
   "source": [
    "seq1 = \"ATGTTATAG\"\n",
    "seq1_new = \"\"\n",
    "for base in seq1:\n",
    "    if base == \"A\":\n",
    "        seq1_new += \"T\"\n",
    "    elif base == \"T\":\n",
    "        seq1_new += \"A\"\n",
    "    elif base == \"G\":\n",
    "        seq1_new += \"C\"\n",
    "    elif base == \"C\":\n",
    "        seq1_new += \"G\"\n",
    "print(seq1)\n",
    "print(seq1_new)"
   ]
  },
  {
   "cell_type": "code",
   "execution_count": null,
   "id": "a9517faf",
   "metadata": {},
   "outputs": [
    {
     "name": "stdout",
     "output_type": "stream",
     "text": [
      "TACAATATC\n"
     ]
    }
   ],
   "source": [
    "complement = {\"A\":\"T\", \"T\":\"A\", \"G\":\"C\", \"C\":\"G\"}\n",
    "seq1 = \"ATGTTATAG\"\n",
    "seq1_new = \"\"\n",
    "for base in seq1:\n",
    "    seq1_new += complement[base]\n",
    "print(seq1_new)"
   ]
  },
  {
   "cell_type": "code",
   "execution_count": null,
   "id": "bc0a623a",
   "metadata": {},
   "outputs": [
    {
     "name": "stdout",
     "output_type": "stream",
     "text": [
      "False\n"
     ]
    }
   ],
   "source": [
    "seq1 = \"ATGTTATAG\"\n",
    "for base in seq1:\n",
    "    if base == \"C\":\n",
    "        print(\"FOUND Cytosine\")\n",
    "\n",
    "is_c_in = \"C\" in seq1\n",
    "print(is_c_in)"
   ]
  },
  {
   "cell_type": "code",
   "execution_count": null,
   "id": "93c62c1e",
   "metadata": {},
   "outputs": [
    {
     "name": "stdout",
     "output_type": "stream",
     "text": [
      "2\n",
      "3\n"
     ]
    }
   ],
   "source": [
    "seq1 = \"AGTTTATAG\"\n",
    "#       012345678\n",
    "#         TT\n",
    "#          TT\n",
    "for i in range(len(seq1)):\n",
    "    # print(i, i+2, seq1[i:i+2])\n",
    "    if seq1[i:i+2] == \"TT\":\n",
    "        print(i)"
   ]
  },
  {
   "cell_type": "code",
   "execution_count": null,
   "id": "37170155",
   "metadata": {},
   "outputs": [
    {
     "name": "stdout",
     "output_type": "stream",
     "text": [
      "['AA', 'AC', 'AG', 'AT']\n"
     ]
    }
   ],
   "source": [
    "s = \"AA,AC,AG,AT\"\n",
    "data = s.split(\",\")\n",
    "print(data)"
   ]
  },
  {
   "cell_type": "code",
   "execution_count": null,
   "id": "ea150227",
   "metadata": {},
   "outputs": [
    {
     "name": "stdout",
     "output_type": "stream",
     "text": [
      "AA||AC||AG||AT\n"
     ]
    }
   ],
   "source": [
    "data = ['AA', 'AC', 'AG', 'AT']\n",
    "print(\"||\".join(data))"
   ]
  },
  {
   "cell_type": "code",
   "execution_count": 84,
   "id": "d394f357",
   "metadata": {},
   "outputs": [
    {
     "name": "stdout",
     "output_type": "stream",
     "text": [
      "4\n"
     ]
    }
   ],
   "source": [
    "data = ['AA', 'AC', 'AG', 'AT']\n",
    "print(len(data))"
   ]
  },
  {
   "cell_type": "code",
   "execution_count": 87,
   "id": "521a7b43",
   "metadata": {},
   "outputs": [
    {
     "name": "stdout",
     "output_type": "stream",
     "text": [
      "AGTTTATAG\n",
      "A\n",
      "G\n",
      "T\n",
      "T\n",
      "T\n",
      "A\n",
      "T\n",
      "A\n",
      "G\n"
     ]
    }
   ],
   "source": [
    "print(seq1)\n",
    "for base in seq1:\n",
    "    print(base)"
   ]
  },
  {
   "cell_type": "code",
   "execution_count": 91,
   "id": "a11584b5",
   "metadata": {},
   "outputs": [
    {
     "name": "stdout",
     "output_type": "stream",
     "text": [
      "['AA', 'AC', 'AG', 'AT']\n",
      "AA\n",
      "AC\n",
      "AG\n",
      "AT\n"
     ]
    }
   ],
   "source": [
    "print(data)\n",
    "for elem in data:\n",
    "    print(elem)"
   ]
  },
  {
   "cell_type": "code",
   "execution_count": null,
   "id": "38c9684b",
   "metadata": {},
   "outputs": [
    {
     "name": "stdout",
     "output_type": "stream",
     "text": [
      "{'A': 10, 'C': 20, 'G': 30, 'T': 40}\n",
      "('A', 10)\n",
      "('C', 20)\n",
      "('G', 30)\n",
      "('T', 40)\n"
     ]
    }
   ],
   "source": [
    "data = {\"A\": 10, \"C\": 20, \"G\": 30, \"T\": 40}\n",
    "print(data)\n",
    "for elem in data.items(): # data, data.keys(), data.values(), data.items()\n",
    "    print(elem)"
   ]
  },
  {
   "cell_type": "code",
   "execution_count": 96,
   "id": "a3fe6379",
   "metadata": {},
   "outputs": [
    {
     "name": "stdout",
     "output_type": "stream",
     "text": [
      "[10, 20, 30, 40]\n",
      "[10, 20, 30, 40, 50]\n"
     ]
    }
   ],
   "source": [
    "data = list() # data = [] # 빈 상태 초기화\n",
    "data = [10, 20, 30, 40] # 값을 넣으면서 초기화\n",
    "print(data)\n",
    "data.append(50)\n",
    "print(data)"
   ]
  },
  {
   "cell_type": "code",
   "execution_count": 100,
   "id": "77fae432",
   "metadata": {},
   "outputs": [
    {
     "name": "stdout",
     "output_type": "stream",
     "text": [
      "[2, 4, 6, 8]\n"
     ]
    }
   ],
   "source": [
    "data = list()\n",
    "for i in range(1, 5):\n",
    "    data.append(i*2)\n",
    "print(data)"
   ]
  },
  {
   "cell_type": "code",
   "execution_count": null,
   "id": "d2ea8b53",
   "metadata": {},
   "outputs": [
    {
     "name": "stdout",
     "output_type": "stream",
     "text": [
      "[2, 4, 6, 8]\n"
     ]
    }
   ],
   "source": [
    "# new_list = [expression for item in iterable]\n",
    "data2 = [x*2 for x in range(1, 5)]\n",
    "print(data2)"
   ]
  },
  {
   "cell_type": "code",
   "execution_count": 105,
   "id": "d58b4cdd",
   "metadata": {},
   "outputs": [
    {
     "name": "stdout",
     "output_type": "stream",
     "text": [
      "[2, 4]\n"
     ]
    }
   ],
   "source": [
    "# new_list = [expression for item in iterable if condition == True]\n",
    "data3 = [x for x in range(1, 5) if x % 2 == 0]\n",
    "print(data3)"
   ]
  },
  {
   "cell_type": "code",
   "execution_count": null,
   "id": "66e0784c",
   "metadata": {},
   "outputs": [
    {
     "name": "stdout",
     "output_type": "stream",
     "text": [
      "[1, 4, 9, 16]\n",
      "['M1', 'M2', 'M3', 'M4']\n"
     ]
    }
   ],
   "source": [
    "# new_list = [expression for item in iterable if condition == True]\n",
    "data = [1, 2, 3, 4]\n",
    "# 1) data의 각 요소를 제곱하여 new_list_1\n",
    "new_list_1 = [x**2 for x in data]\n",
    "print(new_list_1)\n",
    "# 2) data의 각 요소에 M을 붙여서 new_list_2\n",
    "new_list_2 = [f\"M{x}\" for x in data]\n",
    "print(new_list_2)"
   ]
  },
  {
   "cell_type": "code",
   "execution_count": 109,
   "id": "fb17ddeb",
   "metadata": {},
   "outputs": [
    {
     "name": "stdout",
     "output_type": "stream",
     "text": [
      "['GGC', 'CCT']\n"
     ]
    }
   ],
   "source": [
    "# new_list = [expression for item in iterable if condition == True]\n",
    "codon = [\"ATG\", \"GGC\", \"TGA\", \"CCT\"]\n",
    "# A가 없는 요소만 codon_new 리스트에 넣기\n",
    "codon_new = [x for x in codon if \"A\" not in x]\n",
    "print(codon_new)"
   ]
  },
  {
   "cell_type": "code",
   "execution_count": 110,
   "id": "c4f06eae",
   "metadata": {},
   "outputs": [
    {
     "name": "stdout",
     "output_type": "stream",
     "text": [
      "['AA', 'CA', 'AG', 'AT']\n"
     ]
    }
   ],
   "source": [
    "data = [\"AA\", \"AC\", \"AG\", \"AT\"]\n",
    "# 두 번째 위치를 CA로 변경\n",
    "data[1] = \"CA\"\n",
    "print(data)"
   ]
  },
  {
   "cell_type": "code",
   "execution_count": 111,
   "id": "3403f081",
   "metadata": {},
   "outputs": [
    {
     "name": "stdout",
     "output_type": "stream",
     "text": [
      "['AA', 'AC', 'AG', 'AT', 'CA']\n"
     ]
    }
   ],
   "source": [
    "data = [\"AA\", \"AC\", \"AG\", \"AT\"]\n",
    "# data의 맨 뒤에 \"CA\" 추가 append\n",
    "data.append(\"CA\")\n",
    "print(data)"
   ]
  },
  {
   "cell_type": "code",
   "execution_count": 113,
   "id": "01d7c56b",
   "metadata": {},
   "outputs": [
    {
     "name": "stdout",
     "output_type": "stream",
     "text": [
      "['CA', 'AA', 'TT', 'AC', 'AG', 'AT']\n"
     ]
    }
   ],
   "source": [
    "data = [\"AA\", \"AC\", \"AG\", \"AT\"]\n",
    "# data의 맨 앞에 \"CA\" 추가 insert\n",
    "data.insert(0, \"CA\")\n",
    "data.insert(2, \"TT\")\n",
    "print(data)"
   ]
  },
  {
   "cell_type": "code",
   "execution_count": null,
   "id": "f4551d99",
   "metadata": {},
   "outputs": [
    {
     "name": "stdout",
     "output_type": "stream",
     "text": [
      "['AA', 'AC', 'AG']\n",
      "AT\n"
     ]
    }
   ],
   "source": [
    "data = [\"AA\", \"AC\", \"AG\", \"AT\"]\n",
    "ret = data.pop()\n",
    "print(data)\n",
    "print(ret)\n",
    "# queue, stack"
   ]
  },
  {
   "cell_type": "code",
   "execution_count": 119,
   "id": "7fecc3cd",
   "metadata": {},
   "outputs": [
    {
     "name": "stdout",
     "output_type": "stream",
     "text": [
      "ATTAGTGTA\n",
      "['AT', 'AG', 'AC', 'AA']\n"
     ]
    }
   ],
   "source": [
    "seq1 = \"ATGTGATTA\"\n",
    "seq1_rev = seq1[::-1]\n",
    "print(seq1_rev)\n",
    "\n",
    "data = [\"AA\", \"AC\", \"AG\", \"AT\"]\n",
    "data_rev = data[::-1]\n",
    "print(data_rev)"
   ]
  },
  {
   "cell_type": "code",
   "execution_count": 121,
   "id": "17348e32",
   "metadata": {},
   "outputs": [
    {
     "name": "stdout",
     "output_type": "stream",
     "text": [
      "[11.82, 7.44, 3.14, 1.92]\n",
      "['TGA', 'GGC', 'CCT', 'ATG']\n"
     ]
    }
   ],
   "source": [
    "gene_expr = [3.14, 11.82, 7.44, 1.92]\n",
    "codon = [\"ATG\", \"GGC\", \"TGA\", \"CCT\"]\n",
    "\n",
    "gene_expr.sort(reverse=True)\n",
    "codon.sort(reverse=True)\n",
    "\n",
    "print(gene_expr)\n",
    "print(codon)"
   ]
  },
  {
   "cell_type": "code",
   "execution_count": null,
   "id": "66f70237",
   "metadata": {},
   "outputs": [
    {
     "name": "stdout",
     "output_type": "stream",
     "text": [
      "[3.14, 11.82, 7.44, 1.92]\n",
      "[1.92, 3.14, 7.44, 11.82]\n"
     ]
    }
   ],
   "source": [
    "gene_expr = [3.14, 11.82, 7.44, 1.92]\n",
    "print(gene_expr)\n",
    "# gene_expr.sort()\n",
    "gene_expr_new = sorted(gene_expr)\n",
    "print(gene_expr_new)\n"
   ]
  },
  {
   "cell_type": "code",
   "execution_count": 126,
   "id": "c06c4d19",
   "metadata": {},
   "outputs": [
    {
     "name": "stdout",
     "output_type": "stream",
     "text": [
      "[3.2, -5.4, 7.8, -11.8]\n"
     ]
    }
   ],
   "source": [
    "relative_value = [7.8, -5.4, 3.2, -11.8]\n",
    "relative_value.sort(key=abs)\n",
    "print(relative_value)"
   ]
  },
  {
   "cell_type": "code",
   "execution_count": 127,
   "id": "b735ae69",
   "metadata": {},
   "outputs": [
    {
     "name": "stdout",
     "output_type": "stream",
     "text": [
      "3 0\n"
     ]
    }
   ],
   "source": [
    "data = [3, 1, 1, 2, 0, 0, 2, 3, 3]\n",
    "# max, min\n",
    "max_val = max(data)\n",
    "min_val = min(data)\n",
    "print(max_val, min_val)"
   ]
  },
  {
   "cell_type": "code",
   "execution_count": 128,
   "id": "bf66d652",
   "metadata": {},
   "outputs": [
    {
     "name": "stdout",
     "output_type": "stream",
     "text": [
      "3 0\n"
     ]
    }
   ],
   "source": [
    "data = [3, 1, 1, 2, 0, 0, 2, 3, 3]\n",
    "max_val = data[0]\n",
    "min_val = data[0]\n",
    "for elem in data:\n",
    "    if elem > max_val:\n",
    "        max_val = elem\n",
    "    if elem < min_val:\n",
    "        min_val = elem\n",
    "print(max_val, min_val)"
   ]
  },
  {
   "cell_type": "code",
   "execution_count": 134,
   "id": "4f5042b0",
   "metadata": {},
   "outputs": [
    {
     "name": "stdout",
     "output_type": "stream",
     "text": [
      "['A', 'C', 'G', 'T', 'AA', 'CC', 'GG', 'TT']\n",
      "['A', 'C', 'G', 'T', ['AA', 'CC', 'GG', 'TT']]\n"
     ]
    }
   ],
   "source": [
    "var1 = [\"A\", \"C\", \"G\", \"T\"]\n",
    "var2 = [\"AA\", \"CC\", \"GG\", \"TT\"]\n",
    "var3 = var1 + var2\n",
    "var1.append(var2)\n",
    "print(var3)\n",
    "print(var1)"
   ]
  },
  {
   "cell_type": "code",
   "execution_count": null,
   "id": "7d83064d",
   "metadata": {},
   "outputs": [
    {
     "name": "stdout",
     "output_type": "stream",
     "text": [
      "{0, 1, 2, 3}\n",
      "0\n",
      "1\n",
      "2\n",
      "3\n"
     ]
    }
   ],
   "source": [
    "data = [3, 1, 1, 2, 0, 0, 2, 3, 3]\n",
    "data_new = set(data)\n",
    "print(data_new)\n",
    "for elem in data_new:\n",
    "    print(elem)\n",
    "# print(elem[0]) # 인덱싱 안됨."
   ]
  },
  {
   "cell_type": "code",
   "execution_count": 136,
   "id": "a2e2c85c",
   "metadata": {},
   "outputs": [
    {
     "name": "stdout",
     "output_type": "stream",
     "text": [
      "{0, 1, 2, 3}\n"
     ]
    }
   ],
   "source": [
    "data = [3, 1, 1, 2, 0, 0, 2, 3, 3]\n",
    "data_new = set()\n",
    "for elem in data:\n",
    "    if elem not in data_new:\n",
    "        data_new.add(elem)\n",
    "print(data_new)"
   ]
  },
  {
   "cell_type": "code",
   "execution_count": 146,
   "id": "42569aa1",
   "metadata": {},
   "outputs": [
    {
     "name": "stdout",
     "output_type": "stream",
     "text": [
      "{'PTEN', 'RET', 'TERT', 'P53', 'KRAS', 'MEN1', 'BRAF'}\n",
      "{'KRAS', 'MEN1'}\n",
      "{'RET', 'BRAF'}\n",
      "{'TERT', 'PTEN', 'P53'}\n"
     ]
    }
   ],
   "source": [
    "genelist1 = [\"BRAF\", \"MEN1\", \"RET\", \"KRAS\", \"BRAF\"]\n",
    "genelist2 = [\"MEN1\", \"PTEN\", \"KRAS\", \"TERT\", \"P53\"]\n",
    "geneset1 = set(genelist1)\n",
    "geneset2 = set(genelist2)\n",
    "# 1) 중복 없이 전체 유전자 리스트 만들기\n",
    "# genelist_all = set(genelist1 + genelist2)\n",
    "genelist_all = geneset1.union(geneset2)\n",
    "print(genelist_all)\n",
    "# 2) 공통된 유전자 리스트 만들기\n",
    "genelist_common = geneset1.intersection(geneset2)\n",
    "print(genelist_common)\n",
    "# 3) 첫번째 리스트에만 있는 유전자 리스트 만들기\n",
    "genelist1_only = geneset1 - geneset2\n",
    "print(genelist1_only)\n",
    "# 4) 두번째 리스트에만 있는 유전자 리스트 만들기\n",
    "genelist2_only = geneset2 - geneset1\n",
    "print(genelist2_only)\n"
   ]
  },
  {
   "cell_type": "code",
   "execution_count": 148,
   "id": "16722a97",
   "metadata": {},
   "outputs": [
    {
     "name": "stdout",
     "output_type": "stream",
     "text": [
      "{'A': 3, 'T': 4, 'G': 2}\n"
     ]
    }
   ],
   "source": [
    "data = \"ATGTTATAG\"\n",
    "count_data = dict()\n",
    "for elem in data:\n",
    "    if elem not in count_data:\n",
    "        count_data[elem] = 0\n",
    "    count_data[elem] += 1\n",
    "print(count_data)"
   ]
  },
  {
   "cell_type": "code",
   "execution_count": 149,
   "id": "d053f2ca",
   "metadata": {},
   "outputs": [
    {
     "name": "stdout",
     "output_type": "stream",
     "text": [
      "defaultdict(<class 'int'>, {'A': 3, 'T': 4, 'G': 2})\n"
     ]
    }
   ],
   "source": [
    "from collections import defaultdict\n",
    "data = \"ATGTTATAG\"\n",
    "count_data = defaultdict(int)\n",
    "for elem in data:\n",
    "    count_data[elem] += 1\n",
    "print(count_data)"
   ]
  },
  {
   "cell_type": "code",
   "execution_count": 150,
   "id": "c6cba4af",
   "metadata": {},
   "outputs": [
    {
     "name": "stdout",
     "output_type": "stream",
     "text": [
      "defaultdict(<class 'int'>, {'M': 1, 'F': 15, 'V': 15, 'L': 13, 'P': 8, 'S': 12, 'Q': 5, 'C': 3, 'N': 11, 'T': 14, 'R': 5, 'A': 4, 'Y': 4, 'G': 6, 'D': 6, 'K': 5, 'H': 3, 'W': 2, 'I': 6, 'E': 2})\n"
     ]
    }
   ],
   "source": [
    "from collections import defaultdict\n",
    "\n",
    "seq1 = \"MFVFLVLLPLVSSQCVNLTTRTQLPPAYTNSFTRGVYYPDKVFRSSVLHSTQDLFLPFFSNVTWFHAIHVSGTNGTKRFDNPVLPFNDGVYFASTEKSNIIRGWIFGTTLDSKTQSLLIVNNATNVVIKVCEFQFCNDPF\"\n",
    "count_data = defaultdict(int)\n",
    "for aa in seq1:\n",
    "    count_data[aa] += 1\n",
    "print(count_data)"
   ]
  },
  {
   "cell_type": "code",
   "execution_count": null,
   "id": "dd5a55c1",
   "metadata": {},
   "outputs": [
    {
     "name": "stdout",
     "output_type": "stream",
     "text": [
      "6\n"
     ]
    }
   ],
   "source": [
    "# lambda arguments: expression\n",
    "make_double = lambda x: x*2\n",
    "res = make_double(3)\n",
    "print(res)"
   ]
  },
  {
   "cell_type": "code",
   "execution_count": 157,
   "id": "48990e21",
   "metadata": {},
   "outputs": [
    {
     "name": "stdout",
     "output_type": "stream",
     "text": [
      "False\n",
      "True\n"
     ]
    }
   ],
   "source": [
    "# lambda arguments: expression\n",
    "# 1) 주어진 수가 짝수이면 True 홀수면 False를 반환하는 lambda function 만들기\n",
    "check_even = lambda x: x%2 == 0\n",
    "print(check_even(3))\n",
    "print(check_even(6))"
   ]
  },
  {
   "cell_type": "code",
   "execution_count": 160,
   "id": "def1e21a",
   "metadata": {},
   "outputs": [
    {
     "name": "stdout",
     "output_type": "stream",
     "text": [
      "3\n"
     ]
    }
   ],
   "source": [
    "# lambda arguments: expression\n",
    "# 2) 세 수를 입력받아서 minimum value 를 반환하는 lambda function 만들기\n",
    "min_val_3 = lambda x, y, z: min((x, y, z))\n",
    "print(min_val_3(5, 3, 7))"
   ]
  },
  {
   "cell_type": "code",
   "execution_count": 172,
   "id": "b9dbb515",
   "metadata": {},
   "outputs": [
    {
     "name": "stdout",
     "output_type": "stream",
     "text": [
      "{'M': 1, 'F': 15, 'V': 15, 'L': 13, 'P': 8, 'S': 12, 'Q': 5, 'C': 3, 'N': 11, 'T': 14, 'R': 5, 'A': 4, 'Y': 4, 'G': 6, 'D': 6, 'K': 5, 'H': 3, 'W': 2, 'I': 6, 'E': 2}\n",
      "dict_items([('M', 1), ('F', 15), ('V', 15), ('L', 13), ('P', 8), ('S', 12), ('Q', 5), ('C', 3), ('N', 11), ('T', 14), ('R', 5), ('A', 4), ('Y', 4), ('G', 6), ('D', 6), ('K', 5), ('H', 3), ('W', 2), ('I', 6), ('E', 2)])\n"
     ]
    }
   ],
   "source": [
    "seq1 = \"MFVFLVLLPLVSSQCVNLTTRTQLPPAYTNSFTRGVYYPDKVFRSSVLHSTQDLFLPFFSNVTWFHAIHVSGTNGTKRFDNPVLPFNDGVYFASTEKSNIIRGWIFGTTLDSKTQSLLIVNNATNVVIKVCEFQFCNDPF\"\n",
    "count_data = dict()\n",
    "for aa in seq1:\n",
    "    if aa not in count_data:\n",
    "        count_data[aa] = 0\n",
    "    count_data[aa] += 1\n",
    "print(count_data)\n",
    "print(count_data.items())"
   ]
  },
  {
   "cell_type": "code",
   "execution_count": 171,
   "id": "fe69450d",
   "metadata": {},
   "outputs": [
    {
     "name": "stdout",
     "output_type": "stream",
     "text": [
      "[('M', 1), ('W', 2), ('E', 2)]\n",
      "[('T', 14), ('F', 15), ('V', 15)]\n"
     ]
    }
   ],
   "source": [
    "# lambda arguments: expression\n",
    "print(sorted(count_data.items(), key=lambda x: x[1])[:3])\n",
    "print(sorted(count_data.items(), key=lambda x: x[1])[-3:])"
   ]
  },
  {
   "cell_type": "code",
   "execution_count": 175,
   "id": "eef2ccec",
   "metadata": {},
   "outputs": [
    {
     "name": "stdout",
     "output_type": "stream",
     "text": [
      "<class '__main__.DNA'> <class '__main__.DNA'>\n",
      "['__class__', '__delattr__', '__dict__', '__dir__', '__doc__', '__eq__', '__format__', '__ge__', '__getattribute__', '__getstate__', '__gt__', '__hash__', '__init__', '__init_subclass__', '__le__', '__lt__', '__module__', '__ne__', '__new__', '__reduce__', '__reduce_ex__', '__repr__', '__setattr__', '__sizeof__', '__str__', '__subclasshook__', '__weakref__']\n",
      "<class 'list'> <class 'dict'>\n"
     ]
    }
   ],
   "source": [
    "class DNA: # 붕어빵 틀\n",
    "    pass\n",
    "\n",
    "dna1 = DNA() # dna1 붕어빵\n",
    "dna2 = DNA() # dna2 붕어빵\n",
    "print(type(dna1), type(dna2))\n",
    "print(dir(dna1))\n",
    "data = list()\n",
    "data2 = dict()\n",
    "print(type(data), type(data2))"
   ]
  },
  {
   "cell_type": "code",
   "execution_count": 2,
   "id": "c386ebac",
   "metadata": {},
   "outputs": [
    {
     "name": "stdout",
     "output_type": "stream",
     "text": [
      "서열: ACGT, 길이: 4\n"
     ]
    }
   ],
   "source": [
    "# Property: sequence: str, sample_id: int\n",
    "# Method: get_length() -> int, get_reverse_sequence() -> str\n",
    "\n",
    "class DNA: # 붕어빵 틀\n",
    "    def __init__(self):\n",
    "        self.sequence = \"AAA\"\n",
    "    def get_length(self) -> int:\n",
    "        return len(self.sequence)\n",
    "    def __add__(self, other):\n",
    "        return self.sequence + other.sequence\n",
    "    def __str__(self):\n",
    "        return f\"서열: {self.sequence}, 길이: {len(self.sequence)}\"\n",
    "dna1 = DNA()\n",
    "dna1.sequence = \"ACGT\"\n",
    "print(dna1)\n",
    "# dna2 = DNA()\n",
    "# dna2.sequence = \"TTTT\"\n",
    "# print(dna1 + dna2)\n"
   ]
  },
  {
   "cell_type": "code",
   "execution_count": 3,
   "id": "9699979e",
   "metadata": {},
   "outputs": [],
   "source": [
    "class RNA(DNA):\n",
    "    pass"
   ]
  },
  {
   "cell_type": "code",
   "execution_count": null,
   "id": "60c74b45",
   "metadata": {},
   "outputs": [
    {
     "data": {
      "text/plain": [
       "['__add__',\n",
       " '__class__',\n",
       " '__delattr__',\n",
       " '__dict__',\n",
       " '__dir__',\n",
       " '__doc__',\n",
       " '__eq__',\n",
       " '__format__',\n",
       " '__ge__',\n",
       " '__getattribute__',\n",
       " '__getstate__',\n",
       " '__gt__',\n",
       " '__hash__',\n",
       " '__init__',\n",
       " '__init_subclass__',\n",
       " '__le__',\n",
       " '__lt__',\n",
       " '__module__',\n",
       " '__ne__',\n",
       " '__new__',\n",
       " '__reduce__',\n",
       " '__reduce_ex__',\n",
       " '__repr__',\n",
       " '__setattr__',\n",
       " '__sizeof__',\n",
       " '__str__',\n",
       " '__subclasshook__',\n",
       " '__weakref__',\n",
       " 'get_length',\n",
       " 'sequence']"
      ]
     },
     "execution_count": 6,
     "metadata": {},
     "output_type": "execute_result"
    }
   ],
   "source": []
  },
  {
   "cell_type": "code",
   "execution_count": null,
   "id": "32d9fc93",
   "metadata": {},
   "outputs": [
    {
     "name": "stdout",
     "output_type": "stream",
     "text": [
      "Buddy says Woof!\n"
     ]
    }
   ],
   "source": []
  },
  {
   "cell_type": "code",
   "execution_count": null,
   "id": "789e960e",
   "metadata": {},
   "outputs": [],
   "source": [
    "class DNA:\n",
    "    def get_type(self):\n",
    "        return \"DNA\"\n",
    "\n",
    "class RNA(DNA):\n",
    "    def get_type(self):\n",
    "        return \"RNA\"  # 오버라이딩\n"
   ]
  }
 ],
 "metadata": {
  "kernelspec": {
   "display_name": "base",
   "language": "python",
   "name": "python3"
  },
  "language_info": {
   "codemirror_mode": {
    "name": "ipython",
    "version": 3
   },
   "file_extension": ".py",
   "mimetype": "text/x-python",
   "name": "python",
   "nbconvert_exporter": "python",
   "pygments_lexer": "ipython3",
   "version": "3.11.8"
  }
 },
 "nbformat": 4,
 "nbformat_minor": 5
}
